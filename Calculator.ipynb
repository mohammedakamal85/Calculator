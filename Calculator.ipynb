{
 "cells": [
  {
   "cell_type": "code",
   "execution_count": 1,
   "id": "bef2806d",
   "metadata": {},
   "outputs": [],
   "source": [
    "def Calc(x,y,op):\n",
    "    if op == \"+\":\n",
    "        return x + y\n",
    "    elif op == \"-\":\n",
    "        return x - y\n",
    "    elif op == \"/\":\n",
    "        while y == 0:\n",
    "            print("you can't devide by zero")\n",
    "            y=int(input("enter a new number\n"))\n",
    "        return x / y\n",
    "    elif op == \"*\":\n",
    "        return x * y\n",
    "    else:\n",
    "        print(\"you entered wrong operator\")\n",
    "    "
   ]
  },
  {
   "cell_type": "code",
   "execution_count": 3,
   "id": "184612e3",
   "metadata": {},
   "outputs": [
    {
     "data": {
      "text/plain": [
       "15"
      ]
     },
     "execution_count": 3,
     "metadata": {},
     "output_type": "execute_result"
    }
   ],
   "source": [
    "Calc(10,5,\"+\")"
   ]
  },
  {
   "cell_type": "code",
   "execution_count": null,
   "id": "af9d2992",
   "metadata": {},
   "outputs": [],
   "source": []
  }
 ],
 "metadata": {
  "kernelspec": {
   "display_name": "Python 3 (ipykernel)",
   "language": "python",
   "name": "python3"
  },
  "language_info": {
   "codemirror_mode": {
    "name": "ipython",
    "version": 3
   },
   "file_extension": ".py",
   "mimetype": "text/x-python",
   "name": "python",
   "nbconvert_exporter": "python",
   "pygments_lexer": "ipython3",
   "version": "3.11.3"
  }
 },
 "nbformat": 4,
 "nbformat_minor": 5
}
